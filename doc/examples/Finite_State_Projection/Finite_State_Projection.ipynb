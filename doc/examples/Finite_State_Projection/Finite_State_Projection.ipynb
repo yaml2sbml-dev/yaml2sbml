{
 "cells": [
  {
   "cell_type": "markdown",
   "metadata": {},
   "source": [
    "# Finite State Projection of a Gene Transmission Model\n",
    "\n",
    "## Model\n",
    "\n",
    "In this application example, we consider the two-stage model of gene transmission, discussed e.g. in. [[1]](#References). The two-stage model describes the stochastic transcription and translation of a gene by the reactions\n",
    "\n",
    "\n",
    "\\begin{align*}\n",
    "R_1 &: \\emptyset \\to mRNA \\\\\n",
    "R_2 &: mRNA \\to \\emptyset\\\\\n",
    "R_3 &: mRNA \\to mRNA + P \\\\\n",
    "R_4 &: P \\to \\emptyset.\n",
    "\\end{align*}\n",
    "\n",
    "The solution to the Chemical Master Equation (CME) [[2]](#References) gives the probabilities of the states at a given time point as the solution of an infinite dimensional ODE\n",
    "\n",
    "\\begin{align*}\n",
    "\\frac{d}{dt}x_{r, p} =& - \\big(k_1 + (k_2+k_3) \\cdot r + k_4 \\cdot p \\big) \\cdot x_{r, p} \\\\\n",
    "&+ k_1 \\cdot x_{r-1, p} \\\\\n",
    "&+ k_2 \\cdot (r+1) \\cdot x_{r+1, p} \\\\\n",
    "&+ k_3 \\cdot r \\cdot x_{r, p-1} \\\\\n",
    "&+ k_4 \\cdot (p+1) \\cdot x_{r, p+1}\\\\ \n",
    "\\end{align*}\n",
    "\n",
    "We assume the initial probabilites to be independent Poisson distributions for mRNA and Protein abundances.\n",
    "\n",
    "## Finite State Projection\n",
    "\n",
    "The Finite State Projection [[3]](#References) approximates this CME by restricting the states to a finite domain and approximating the probability of the left out states by zero. In our case, we ill restrict the states to $x_{r, p}$ for $(r, p) \\in [0, r_{max}-1] \\times [[0, p_{max}-1]]$.\n",
    "\n",
    "## Model Construction:\n",
    "\n",
    "The model is constructed using the `yaml2sbml` Model Editor and exported to SBML. This takes only a few lines of code: "
   ]
  },
  {
   "cell_type": "code",
   "execution_count": 1,
   "metadata": {},
   "outputs": [],
   "source": [
    "from yaml2sbml import YamlModel\n",
    "from itertools import product\n",
    "from scipy.stats import poisson\n",
    "\n",
    "model = YamlModel()\n",
    "\n",
    "r_max = 20\n",
    "p_max = 50\n",
    "\n",
    "lambda_r = 5\n",
    "lambda_p = 5\n",
    "\n",
    "# add parameters\n",
    "model.add_parameter(parameter_id='k_1', nominal_value=2)\n",
    "model.add_parameter(parameter_id='k_2', nominal_value=1)\n",
    "model.add_parameter(parameter_id='k_3', nominal_value=10)\n",
    "model.add_parameter(parameter_id='k_4', nominal_value=3)\n",
    "\n",
    "# add ODEs & construct the rhs\n",
    "for r, p in product(range(r_max), range(p_max)):\n",
    "    \n",
    "    rhs = f'-(k_1 + (k_2 + k_3)*{r} + k_4*{p}) * x_{r}_{p} '\n",
    "    \n",
    "    if r>0:\n",
    "        rhs += f'+ k_1 * x_{r-1}_{p}'\n",
    "    if r+1 < r_max:\n",
    "        rhs += f'+ k_2 * {r+1} * x_{r+1}_{p}'\n",
    "    if  p>0:\n",
    "        rhs += f'+ k_3 * {r} * x_{r}_{p-1}'\n",
    "    if p+1 < p_max:\n",
    "        rhs += f'+ k_4 * {p+1} * x_{r}_{p+1}'\n",
    "    \n",
    "    model.add_ode(state_id = f\"x_{r}_{p}\", \n",
    "                  right_hand_side=rhs,\n",
    "                  #convert from np.float to float\n",
    "                  initial_value=float(poisson.pmf(r, lambda_r)*poisson.pmf(p, lambda_p))\n",
    "                 )\n",
    "\n",
    "model.write_to_sbml('gene_expression.xml', overwrite=True)"
   ]
  },
  {
   "cell_type": "markdown",
   "metadata": {},
   "source": [
    "## Model Simulation\n",
    "\n",
    "We now use AMICI to simulate the generated model and plot the marginal distributions of the mRNA and protein abundance."
   ]
  },
  {
   "cell_type": "code",
   "execution_count": 2,
   "metadata": {},
   "outputs": [
    {
     "data": {
      "image/png": "[encoded data removed]",
      "text/plain": [
       "<Figure size 432x288 with 8 Axes>"
      ]
     },
     "metadata": {
      "needs_background": "light"
     },
     "output_type": "display_data"
    }
   ],
   "source": [
    "%matplotlib inline\n",
    "\n",
    "import numpy as np\n",
    "from utils import plot_AMICI\n",
    "\n",
    "# sim, model = compile_and_simulate('gene_expression.xml', 0.1 * np.arange(10), r_max, p_max)\n",
    "\n",
    "plot_AMICI('gene_expression.xml', [0, 5, 10, 15], r_max, p_max)"
   ]
  },
  {
   "cell_type": "markdown",
   "metadata": {},
   "source": [
    "# References\n",
    "\n",
    "[1] Shahrezaei, V.,  and Swain, P.S. (2008). \"Analytical distributions for stochastic gene expression\" PNAS 17256–17261 https://www.pnas.org/content/105/45/17256\n",
    "\n",
    "[2] Gillespie, D. T. (1992). \"A rigorous derivation of the chemical master equation\" Physica A: Statistical Mechanics and its Applications https://www.sciencedirect.com/science/article/abs/pii/037843719290283V\n",
    "\n",
    "[3] Munsky, B. and Khammash, M. (2006) \"The finite state projection algorithm for the solution of the chemical master equation\" The Journal of chemical physics https://aip.scitation.org/doi/full/10.1063/1.2145882"
   ]
  }
 ],
 "metadata": {
  "kernelspec": {
   "display_name": "Python 3",
   "language": "python",
   "name": "python3"
  },
  "language_info": {
   "codemirror_mode": {
    "name": "ipython",
    "version": 3
   },
   "file_extension": ".py",
   "mimetype": "text/x-python",
   "name": "python",
   "nbconvert_exporter": "python",
   "pygments_lexer": "ipython3",
   "version": "3.7.1"
  }
 },
 "nbformat": 4,
 "nbformat_minor": 4
}
